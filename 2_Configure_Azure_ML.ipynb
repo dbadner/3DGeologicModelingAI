{
 "cells": [
  {
   "cell_type": "code",
   "execution_count": 14,
   "metadata": {},
   "outputs": [],
   "source": [
    "#Imports\n",
    "import os\n",
    "from azure.identity import ClientSecretCredential\n",
    "from azure.ai.ml import MLClient, Input, command\n",
    "from azure.ai.ml.entities import Environment\n"
   ]
  },
  {
   "cell_type": "code",
   "execution_count": 15,
   "metadata": {},
   "outputs": [],
   "source": [
    "# Get credential using key vault and assigned service principal\n",
    "# from dotenv import load_dotenv\n",
    "\n",
    "# try:\n",
    "#     # Get Configuration Settings\n",
    "#     load_dotenv()\n",
    "#     ai_endpoint = os.getenv('AI_SERVICE_ENDPOINT')\n",
    "#     key_vault_name = os.getenv('KEY_VAULT')\n",
    "#     app_tenant = os.getenv('TENANT_ID')\n",
    "#     app_id = os.getenv('APP_ID')\n",
    "#     app_password = os.getenv('APP_PASSWORD')\n",
    "\n",
    "#     # Get Azure AI services key from keyvault using the service principal credentials\n",
    "#     key_vault_uri = f\"https://geologicmodeli4807379474.vault.azure.net/\"\n",
    "#     credential = ClientSecretCredential(app_tenant, app_id, app_password)\n",
    "\n",
    "#     print(credential)\n",
    "\n",
    "# except Exception as ex:\n",
    "#     print(ex)"
   ]
  },
  {
   "cell_type": "code",
   "execution_count": 16,
   "metadata": {},
   "outputs": [],
   "source": [
    "# Alternative - get credential interactively in web browser\n",
    "\n",
    "# Authentication package\n",
    "from azure.identity import InteractiveBrowserCredential\n",
    "credential = InteractiveBrowserCredential()"
   ]
  },
  {
   "cell_type": "code",
   "execution_count": 17,
   "metadata": {},
   "outputs": [
    {
     "name": "stdout",
     "output_type": "stream",
     "text": [
      "MLClient(credential=<azure.identity._credentials.browser.InteractiveBrowserCredential object at 0x000001E9789E6D10>,\n",
      "         subscription_id=c86805c3-3059-4256-b792-9a7f1b58c4fc,\n",
      "         resource_group_name=mltest-rg,\n",
      "         workspace_name=mltest-aml)\n"
     ]
    }
   ],
   "source": [
    "# Get a handle to the workspace\n",
    "ml_client = MLClient(\n",
    "    credential=credential,\n",
    "    subscription_id=\"c86805c3-3059-4256-b792-9a7f1b58c4fc\",\n",
    "    resource_group_name=\"mltest-rg\",\n",
    "    workspace_name=\"mltest-aml\",\n",
    ")\n",
    "\n",
    "print(ml_client)"
   ]
  },
  {
   "cell_type": "code",
   "execution_count": 18,
   "metadata": {},
   "outputs": [
    {
     "name": "stdout",
     "output_type": "stream",
     "text": [
      "You already have a cluster named gpu-cluster, we'll reuse it as is.\n",
      "AMLCompute with name gpu-cluster is created, the compute size is Standard_NC8as_T4_v3\n"
     ]
    }
   ],
   "source": [
    "from azure.ai.ml.entities import AmlCompute\n",
    "\n",
    "gpu_compute_target = \"gpu-cluster\"\n",
    "\n",
    "try:\n",
    "    # let's see if the compute target already exists\n",
    "    gpu_cluster = ml_client.compute.get(gpu_compute_target)\n",
    "    print(\n",
    "        f\"You already have a cluster named {gpu_compute_target}, we'll reuse it as is.\"\n",
    "    )\n",
    "\n",
    "except Exception:\n",
    "    print(\"Creating a new gpu compute target...\")\n",
    "\n",
    "    # Let's create the Azure ML compute object with the intended parameters\n",
    "    gpu_cluster = AmlCompute(\n",
    "        # Name assigned to the compute cluster\n",
    "        name=\"gpu-cluster\",\n",
    "        # Azure ML Compute is the on-demand VM service\n",
    "        type=\"amlcompute\",\n",
    "        # VM Family\n",
    "        size=\"Standard_NC8as_T4_v3\",#Standard_E4ds_v4\",#\"STANDARD_NC6s_v3\",\n",
    "        # Minimum running nodes when there is no job running\n",
    "        min_instances=0,\n",
    "        # Nodes in cluster\n",
    "        max_instances=1,\n",
    "        # How many seconds will the node running after the job termination\n",
    "        idle_time_before_scale_down=180,\n",
    "        # Dedicated or LowPriority. The latter is cheaper but there is a chance of job termination\n",
    "        tier=\"Dedicated\",\n",
    "    )\n",
    "\n",
    "    # Now, we pass the object to MLClient's create_or_update method\n",
    "    gpu_cluster = ml_client.begin_create_or_update(gpu_cluster).result()\n",
    "\n",
    "print(\n",
    "    f\"AMLCompute with name {gpu_cluster.name} is created, the compute size is {gpu_cluster.size}\"\n",
    ")"
   ]
  },
  {
   "cell_type": "code",
   "execution_count": 19,
   "metadata": {},
   "outputs": [],
   "source": [
    "#Specify preconfigured environment\n",
    "#curated_env_name = \"AzureML-pytorch-1.9-ubuntu18.04-py37-cuda11-gpu@latest\"\n",
    "# Won't work, does not have pytorch geometric installed"
   ]
  },
  {
   "cell_type": "code",
   "execution_count": 20,
   "metadata": {},
   "outputs": [],
   "source": [
    "#Create conda yaml file with custom dependencies\n",
    "\n",
    "dependencies_dir = \"./AML/dependencies\"\n",
    "os.makedirs(dependencies_dir, exist_ok=True)"
   ]
  },
  {
   "cell_type": "code",
   "execution_count": 21,
   "metadata": {},
   "outputs": [
    {
     "name": "stdout",
     "output_type": "stream",
     "text": [
      "Overwriting ./AML/dependencies/conda.yaml\n"
     ]
    }
   ],
   "source": [
    "%%writefile {dependencies_dir}/conda.yaml\n",
    "name: model-env\n",
    "channels:\n",
    "  - conda-forge\n",
    "dependencies:\n",
    "  - python=3.10.13\n",
    "  - pytorch_geometric=2.4.0"
   ]
  },
  {
   "cell_type": "code",
   "execution_count": 22,
   "metadata": {},
   "outputs": [
    {
     "name": "stdout",
     "output_type": "stream",
     "text": [
      "Environment with name aml-pytorch-geometric is registered to workspace, the environment version is 5\n"
     ]
    }
   ],
   "source": [
    "from azure.ai.ml.entities import Environment\n",
    "\n",
    "custom_env_name = \"aml-pytorch-geometric\"\n",
    "\n",
    "custom_job_env = Environment(\n",
    "    name=custom_env_name,\n",
    "    description=\"Custom environment for geomodeling with pytorch geometric\",\n",
    "    tags={\"pytorch_geometric\": \"2.4.0\"},\n",
    "    conda_file=os.path.join(dependencies_dir, \"conda.yaml\"),\n",
    "    image=\"pytorch/pytorch:latest\",\n",
    ")\n",
    "custom_job_env = ml_client.environments.create_or_update(custom_job_env)\n",
    "\n",
    "print(\n",
    "    f\"Environment with name {custom_job_env.name} is registered to workspace, the environment version is {custom_job_env.version}\"\n",
    ")"
   ]
  },
  {
   "cell_type": "code",
   "execution_count": 23,
   "metadata": {},
   "outputs": [],
   "source": [
    "command_job = command(\n",
    "    compute=gpu_compute_target,\n",
    "    environment=custom_job_env,#curated_env_name,\n",
    "    code=\"./AML/\",\n",
    "    command=\"python TrainModel.py\", #--input-dir ${{input_dir}} --output-dir ${{output_dir}} --num-epoch ${{num_epoch}}\",\n",
    "    experiment_name=\"pytorch-geomodeling-ex\",\n",
    "    display_name=\"pytorch-geomodeling\",\n",
    ")"
   ]
  },
  {
   "cell_type": "code",
   "execution_count": 24,
   "metadata": {},
   "outputs": [
    {
     "name": "stderr",
     "output_type": "stream",
     "text": [
      "Warning: the provided asset name 'aml-pytorch-geometric' will not be used for anonymous registration\n",
      "Warning: the provided asset name 'aml-pytorch-geometric' will not be used for anonymous registration\n"
     ]
    },
    {
     "data": {
      "text/plain": [
       "'https://ml.azure.com/runs/good_thread_1qcdvbdkk1?wsid=/subscriptions/c86805c3-3059-4256-b792-9a7f1b58c4fc/resourcegroups/mltest-rg/workspaces/mltest-aml&tid=1b16ab3e-b8f6-4fe3-9f3e-2db7fe549f6a'"
      ]
     },
     "execution_count": 24,
     "metadata": {},
     "output_type": "execute_result"
    }
   ],
   "source": [
    "# run the command\n",
    "# submit the command\n",
    "returned_job = ml_client.jobs.create_or_update(command_job)\n",
    "# get a URL for the status of the job\n",
    "returned_job.studio_url"
   ]
  }
 ],
 "metadata": {
  "kernelspec": {
   "display_name": "gnn-env",
   "language": "python",
   "name": "python3"
  },
  "language_info": {
   "codemirror_mode": {
    "name": "ipython",
    "version": 3
   },
   "file_extension": ".py",
   "mimetype": "text/x-python",
   "name": "python",
   "nbconvert_exporter": "python",
   "pygments_lexer": "ipython3",
   "version": "3.10.13"
  }
 },
 "nbformat": 4,
 "nbformat_minor": 2
}
